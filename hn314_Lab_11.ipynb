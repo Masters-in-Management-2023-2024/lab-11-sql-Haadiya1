{
  "nbformat": 4,
  "nbformat_minor": 0,
  "metadata": {
    "colab": {
      "provenance": []
    },
    "kernelspec": {
      "name": "python3",
      "display_name": "Python 3"
    },
    "language_info": {
      "name": "python"
    }
  },
  "cells": [
    {
      "cell_type": "code",
      "execution_count": 1,
      "metadata": {
        "colab": {
          "base_uri": "https://localhost:8080/"
        },
        "id": "AXhdPnrT3yQf",
        "outputId": "d7dd0a51-f617-4334-887d-388161541be8"
      },
      "outputs": [
        {
          "output_type": "stream",
          "name": "stdout",
          "text": [
            "Setup complete! Tables available:\n",
            "shape: (5, 1)\n",
            "┌──────────┐\n",
            "│ name     │\n",
            "│ ---      │\n",
            "│ str      │\n",
            "╞══════════╡\n",
            "│ airlines │\n",
            "│ airports │\n",
            "│ flights  │\n",
            "│ planes   │\n",
            "│ weather  │\n",
            "└──────────┘\n"
          ]
        },
        {
          "output_type": "stream",
          "name": "stderr",
          "text": [
            "/tmp/ipython-input-641361282.py:15: DeprecationWarning: The argument `eager_execution` for `SQLContext.__init__` is deprecated. It has been renamed to `eager`.\n",
            "  ctx = pl.SQLContext(\n"
          ]
        }
      ],
      "source": [
        "# Setup - Run this cell first\n",
        "import polars as pl\n",
        "\n",
        "# Load data\n",
        "airlines = pl.read_csv('https://raw.githubusercontent.com/philhetzel/opan5510-class11/refs/heads/main/data/nyc_airlines.csv')\n",
        "airports = pl.read_csv('https://raw.githubusercontent.com/philhetzel/opan5510-class11/refs/heads/main/data/nyc_airports.csv')\n",
        "flights = pl.read_csv('https://raw.githubusercontent.com/philhetzel/opan5510-class11/refs/heads/main/data/nyc_flights.csv', null_values=['NA'])\n",
        "planes = pl.read_csv('https://raw.githubusercontent.com/philhetzel/opan5510-class11/refs/heads/main/data/nyc_planes.csv', null_values=['NA'])\n",
        "weather = pl.read_csv('https://raw.githubusercontent.com/philhetzel/opan5510-class11/refs/heads/main/data/nyc_weather.csv', null_values=['NA'], infer_schema_length = 1000)\n",
        "\n",
        "flights = flights.with_columns(pl.col(\"time_hour\").str.strptime(pl.Datetime))\n",
        "weather = weather.with_columns(pl.col(\"time_hour\").str.strptime(pl.Datetime))\n",
        "\n",
        "# Create SQL context\n",
        "ctx = pl.SQLContext(\n",
        "    airlines=airlines,\n",
        "    airports=airports,\n",
        "    flights=flights,\n",
        "    planes=planes,\n",
        "    weather=weather,\n",
        "    eager_execution=True\n",
        ")\n",
        "\n",
        "print(\"Setup complete! Tables available:\")\n",
        "print(ctx.execute(\"SHOW TABLES\"))"
      ]
    },
    {
      "cell_type": "code",
      "source": [
        "#QUESTION 1.1\n",
        "\n",
        "# Write your SQL query here\n",
        "result = ctx.execute(\"\"\"\n",
        "SELECT DISTINCT carrier\n",
        "FROM airlines\n",
        "\"\"\")\n",
        "\n",
        "# print(result)\n",
        "\n",
        "print (result)"
      ],
      "metadata": {
        "colab": {
          "base_uri": "https://localhost:8080/"
        },
        "id": "eFDs8Tis4A1d",
        "outputId": "53c540e0-685d-4efa-e093-eaef45792589"
      },
      "execution_count": 17,
      "outputs": [
        {
          "output_type": "stream",
          "name": "stdout",
          "text": [
            "shape: (16, 1)\n",
            "┌─────────┐\n",
            "│ carrier │\n",
            "│ ---     │\n",
            "│ str     │\n",
            "╞═════════╡\n",
            "│ 9E      │\n",
            "│ AA      │\n",
            "│ AS      │\n",
            "│ B6      │\n",
            "│ DL      │\n",
            "│ …       │\n",
            "│ UA      │\n",
            "│ US      │\n",
            "│ VX      │\n",
            "│ WN      │\n",
            "│ YV      │\n",
            "└─────────┘\n"
          ]
        }
      ]
    },
    {
      "cell_type": "code",
      "source": [
        "# QUESTION 1.2\n",
        "\n",
        "# Write your SQL query here\n",
        "result = ctx.execute(\"\"\"\n",
        "SELECT dest, COUNT(*) AS flight_count\n",
        "FROM flights\n",
        "GROUP BY dest\n",
        "ORDER BY flight_count DESC\n",
        "LIMIT 10\n",
        "\"\"\")\n",
        "\n",
        "# print(result)\n",
        "\n",
        "print (result)"
      ],
      "metadata": {
        "colab": {
          "base_uri": "https://localhost:8080/"
        },
        "id": "T_rbWnJ84Ie6",
        "outputId": "c007df28-708d-4f83-bac4-b9dfa38a63aa"
      },
      "execution_count": 18,
      "outputs": [
        {
          "output_type": "stream",
          "name": "stdout",
          "text": [
            "shape: (10, 2)\n",
            "┌──────┬──────────────┐\n",
            "│ dest ┆ flight_count │\n",
            "│ ---  ┆ ---          │\n",
            "│ str  ┆ u32          │\n",
            "╞══════╪══════════════╡\n",
            "│ ORD  ┆ 17283        │\n",
            "│ ATL  ┆ 17215        │\n",
            "│ LAX  ┆ 16174        │\n",
            "│ BOS  ┆ 15508        │\n",
            "│ MCO  ┆ 14082        │\n",
            "│ CLT  ┆ 14064        │\n",
            "│ SFO  ┆ 13331        │\n",
            "│ FLL  ┆ 12055        │\n",
            "│ MIA  ┆ 11728        │\n",
            "│ DCA  ┆ 9705         │\n",
            "└──────┴──────────────┘\n"
          ]
        }
      ]
    },
    {
      "cell_type": "code",
      "source": [
        "#QUESTION 1.3\n",
        "\n",
        "# Write your SQL query here\n",
        "result = ctx.execute(\"\"\"\n",
        "SELECT *\n",
        "FROM flights\n",
        "WHERE dep_delay > 120\n",
        "\"\"\")\n",
        "\n",
        "# print(result)\n",
        "\n",
        "print (result)"
      ],
      "metadata": {
        "colab": {
          "base_uri": "https://localhost:8080/"
        },
        "id": "dBba3oke4JZE",
        "outputId": "deefb8f9-84e1-4822-efca-e42d7815e56d"
      },
      "execution_count": 4,
      "outputs": [
        {
          "output_type": "stream",
          "name": "stdout",
          "text": [
            "shape: (9_723, 19)\n",
            "┌──────┬───────┬─────┬──────────┬───┬──────────┬──────┬────────┬─────────────────────────┐\n",
            "│ year ┆ month ┆ day ┆ dep_time ┆ … ┆ distance ┆ hour ┆ minute ┆ time_hour               │\n",
            "│ ---  ┆ ---   ┆ --- ┆ ---      ┆   ┆ ---      ┆ ---  ┆ ---    ┆ ---                     │\n",
            "│ i64  ┆ i64   ┆ i64 ┆ i64      ┆   ┆ i64      ┆ i64  ┆ i64    ┆ datetime[μs, UTC]       │\n",
            "╞══════╪═══════╪═════╪══════════╪═══╪══════════╪══════╪════════╪═════════════════════════╡\n",
            "│ 2013 ┆ 1     ┆ 1   ┆ 848      ┆ … ┆ 184      ┆ 18   ┆ 35     ┆ 2013-01-01 23:00:00 UTC │\n",
            "│ 2013 ┆ 1     ┆ 1   ┆ 957      ┆ … ┆ 200      ┆ 7    ┆ 33     ┆ 2013-01-01 12:00:00 UTC │\n",
            "│ 2013 ┆ 1     ┆ 1   ┆ 1114     ┆ … ┆ 1416     ┆ 9    ┆ 0      ┆ 2013-01-01 14:00:00 UTC │\n",
            "│ 2013 ┆ 1     ┆ 1   ┆ 1540     ┆ … ┆ 1598     ┆ 13   ┆ 38     ┆ 2013-01-01 18:00:00 UTC │\n",
            "│ 2013 ┆ 1     ┆ 1   ┆ 1815     ┆ … ┆ 1134     ┆ 13   ┆ 25     ┆ 2013-01-01 18:00:00 UTC │\n",
            "│ …    ┆ …     ┆ …   ┆ …        ┆ … ┆ …        ┆ …    ┆ …      ┆ …                       │\n",
            "│ 2013 ┆ 9     ┆ 30  ┆ 1823     ┆ … ┆ 765      ┆ 15   ┆ 45     ┆ 2013-09-30 19:00:00 UTC │\n",
            "│ 2013 ┆ 9     ┆ 30  ┆ 1951     ┆ … ┆ 708      ┆ 16   ┆ 49     ┆ 2013-09-30 20:00:00 UTC │\n",
            "│ 2013 ┆ 9     ┆ 30  ┆ 2053     ┆ … ┆ 746      ┆ 18   ┆ 15     ┆ 2013-09-30 22:00:00 UTC │\n",
            "│ 2013 ┆ 9     ┆ 30  ┆ 2159     ┆ … ┆ 301      ┆ 18   ┆ 45     ┆ 2013-09-30 22:00:00 UTC │\n",
            "│ 2013 ┆ 9     ┆ 30  ┆ 2235     ┆ … ┆ 944      ┆ 20   ┆ 1      ┆ 2013-10-01 00:00:00 UTC │\n",
            "└──────┴───────┴─────┴──────────┴───┴──────────┴──────┴────────┴─────────────────────────┘\n"
          ]
        }
      ]
    },
    {
      "cell_type": "code",
      "source": [
        "# QUESTION 2.1\n",
        "\n",
        "# Write your SQL query here\n",
        "result = ctx.execute(\"\"\"\n",
        "SELECT origin, AVG(dep_delay) AS avg_delay\n",
        "FROM flights\n",
        "GROUP BY origin\n",
        "\"\"\")\n",
        "\n",
        "# print(result)\n",
        "\n",
        "print (result)"
      ],
      "metadata": {
        "colab": {
          "base_uri": "https://localhost:8080/"
        },
        "id": "8j97--ns4SvZ",
        "outputId": "39f85f47-9576-4481-92e5-374067ebadc8"
      },
      "execution_count": 5,
      "outputs": [
        {
          "output_type": "stream",
          "name": "stdout",
          "text": [
            "shape: (3, 2)\n",
            "┌────────┬───────────┐\n",
            "│ origin ┆ avg_delay │\n",
            "│ ---    ┆ ---       │\n",
            "│ str    ┆ f64       │\n",
            "╞════════╪═══════════╡\n",
            "│ EWR    ┆ 15.107954 │\n",
            "│ LGA    ┆ 10.346876 │\n",
            "│ JFK    ┆ 12.112159 │\n",
            "└────────┴───────────┘\n"
          ]
        }
      ]
    },
    {
      "cell_type": "code",
      "source": [
        "# QUESTION 2.2\n",
        "\n",
        "# First, let's check what columns are available\n",
        "result = ctx.execute(\"\"\"\n",
        "    SELECT *\n",
        "    FROM flights\n",
        "    LIMIT 5\n",
        "\"\"\")\n",
        "# print(result)\n",
        "\n",
        "print (result)\n",
        "\n",
        "# Now write your query to find busiest month\n",
        "result = ctx.execute(\"\"\"\n",
        "SELECT month, COUNT(*) AS flight_count\n",
        "FROM flights\n",
        "GROUP BY month\n",
        "ORDER BY flight_count DESC\n",
        "LIMIT 1\n",
        "\"\"\")\n",
        "\n",
        "# print(result)\n",
        "\n",
        "print (result)"
      ],
      "metadata": {
        "colab": {
          "base_uri": "https://localhost:8080/"
        },
        "id": "PLvl1zn34TyY",
        "outputId": "f4ad6c15-028c-44ac-cdb2-2c558ec100aa"
      },
      "execution_count": 6,
      "outputs": [
        {
          "output_type": "stream",
          "name": "stdout",
          "text": [
            "shape: (5, 19)\n",
            "┌──────┬───────┬─────┬──────────┬───┬──────────┬──────┬────────┬─────────────────────────┐\n",
            "│ year ┆ month ┆ day ┆ dep_time ┆ … ┆ distance ┆ hour ┆ minute ┆ time_hour               │\n",
            "│ ---  ┆ ---   ┆ --- ┆ ---      ┆   ┆ ---      ┆ ---  ┆ ---    ┆ ---                     │\n",
            "│ i64  ┆ i64   ┆ i64 ┆ i64      ┆   ┆ i64      ┆ i64  ┆ i64    ┆ datetime[μs, UTC]       │\n",
            "╞══════╪═══════╪═════╪══════════╪═══╪══════════╪══════╪════════╪═════════════════════════╡\n",
            "│ 2013 ┆ 1     ┆ 1   ┆ 517      ┆ … ┆ 1400     ┆ 5    ┆ 15     ┆ 2013-01-01 10:00:00 UTC │\n",
            "│ 2013 ┆ 1     ┆ 1   ┆ 533      ┆ … ┆ 1416     ┆ 5    ┆ 29     ┆ 2013-01-01 10:00:00 UTC │\n",
            "│ 2013 ┆ 1     ┆ 1   ┆ 542      ┆ … ┆ 1089     ┆ 5    ┆ 40     ┆ 2013-01-01 10:00:00 UTC │\n",
            "│ 2013 ┆ 1     ┆ 1   ┆ 544      ┆ … ┆ 1576     ┆ 5    ┆ 45     ┆ 2013-01-01 10:00:00 UTC │\n",
            "│ 2013 ┆ 1     ┆ 1   ┆ 554      ┆ … ┆ 762      ┆ 6    ┆ 0      ┆ 2013-01-01 11:00:00 UTC │\n",
            "└──────┴───────┴─────┴──────────┴───┴──────────┴──────┴────────┴─────────────────────────┘\n",
            "shape: (1, 2)\n",
            "┌───────┬──────────────┐\n",
            "│ month ┆ flight_count │\n",
            "│ ---   ┆ ---          │\n",
            "│ i64   ┆ u32          │\n",
            "╞═══════╪══════════════╡\n",
            "│ 7     ┆ 29425        │\n",
            "└───────┴──────────────┘\n"
          ]
        }
      ]
    },
    {
      "cell_type": "code",
      "source": [
        "# QUESTION 2.3\n",
        "\n",
        "# Write your SQL query here\n",
        "result = ctx.execute(\"\"\"\n",
        "SELECT\n",
        "    carrier,\n",
        "    AVG(CASE WHEN dep_delay <= 15 THEN 1.0 ELSE 0.0 END) AS on_time_rate\n",
        "FROM flights\n",
        "GROUP BY carrier\n",
        "ORDER BY on_time_rate DESC\n",
        "\"\"\")\n",
        "\n",
        "# print(result)\n",
        "print(result)"
      ],
      "metadata": {
        "colab": {
          "base_uri": "https://localhost:8080/"
        },
        "id": "A_nh0QNV4Wl8",
        "outputId": "5b1fca20-ddcd-458f-8075-47dcd1844421"
      },
      "execution_count": 7,
      "outputs": [
        {
          "output_type": "stream",
          "name": "stdout",
          "text": [
            "shape: (16, 2)\n",
            "┌─────────┬──────────────┐\n",
            "│ carrier ┆ on_time_rate │\n",
            "│ ---     ┆ ---          │\n",
            "│ str     ┆ f64          │\n",
            "╞═════════╪══════════════╡\n",
            "│ HA      ┆ 0.929825     │\n",
            "│ AS      ┆ 0.865546     │\n",
            "│ US      ┆ 0.849873     │\n",
            "│ DL      ┆ 0.830742     │\n",
            "│ AA      ┆ 0.824376     │\n",
            "│ …       ┆ …            │\n",
            "│ FL      ┆ 0.716871     │\n",
            "│ F9      ┆ 0.715328     │\n",
            "│ 9E      ┆ 0.701246     │\n",
            "│ EV      ┆ 0.659221     │\n",
            "│ YV      ┆ 0.647255     │\n",
            "└─────────┴──────────────┘\n"
          ]
        }
      ]
    },
    {
      "cell_type": "code",
      "source": [
        "# QUESTION 3.1\n",
        "\n",
        "# Write your SQL query here\n",
        "result = ctx.execute(\"\"\"\n",
        "\n",
        "SELECT\n",
        "    f.carrier,\n",
        "    a.name AS airline_name,\n",
        "    f.flight,\n",
        "    f.origin,\n",
        "    f.dest\n",
        "FROM flights f\n",
        "JOIN airlines a ON f.carrier = a.carrier\n",
        "LIMIT 20\n",
        "\n",
        "\"\"\")\n",
        "\n",
        "# print(result)\n",
        "\n",
        "print(result)"
      ],
      "metadata": {
        "colab": {
          "base_uri": "https://localhost:8080/"
        },
        "id": "hqZdefYT4cKr",
        "outputId": "f79e1346-7779-45a2-8274-610e7de5d56b"
      },
      "execution_count": 8,
      "outputs": [
        {
          "output_type": "stream",
          "name": "stdout",
          "text": [
            "shape: (20, 5)\n",
            "┌─────────┬────────────────────────┬────────┬────────┬──────┐\n",
            "│ carrier ┆ airline_name           ┆ flight ┆ origin ┆ dest │\n",
            "│ ---     ┆ ---                    ┆ ---    ┆ ---    ┆ ---  │\n",
            "│ str     ┆ str                    ┆ i64    ┆ str    ┆ str  │\n",
            "╞═════════╪════════════════════════╪════════╪════════╪══════╡\n",
            "│ UA      ┆ United Air Lines Inc.  ┆ 1545   ┆ EWR    ┆ IAH  │\n",
            "│ UA      ┆ United Air Lines Inc.  ┆ 1714   ┆ LGA    ┆ IAH  │\n",
            "│ AA      ┆ American Airlines Inc. ┆ 1141   ┆ JFK    ┆ MIA  │\n",
            "│ B6      ┆ JetBlue Airways        ┆ 725    ┆ JFK    ┆ BQN  │\n",
            "│ DL      ┆ Delta Air Lines Inc.   ┆ 461    ┆ LGA    ┆ ATL  │\n",
            "│ …       ┆ …                      ┆ …      ┆ …      ┆ …    │\n",
            "│ B6      ┆ JetBlue Airways        ┆ 1806   ┆ JFK    ┆ BOS  │\n",
            "│ UA      ┆ United Air Lines Inc.  ┆ 1187   ┆ EWR    ┆ LAS  │\n",
            "│ B6      ┆ JetBlue Airways        ┆ 371    ┆ LGA    ┆ FLL  │\n",
            "│ MQ      ┆ Envoy Air              ┆ 4650   ┆ LGA    ┆ ATL  │\n",
            "│ B6      ┆ JetBlue Airways        ┆ 343    ┆ EWR    ┆ PBI  │\n",
            "└─────────┴────────────────────────┴────────┴────────┴──────┘\n"
          ]
        }
      ]
    },
    {
      "cell_type": "code",
      "source": [
        "# QUESTION 3.2\n",
        "\n",
        "# Write your SQL query here\n",
        "result = ctx.execute(\"\"\"\n",
        "SELECT\n",
        "    f.carrier,\n",
        "    AVG(2013 - p.year) AS avg_age\n",
        "FROM flights f\n",
        "JOIN planes p ON f.tailnum = p.tailnum\n",
        "GROUP BY f.carrier\n",
        "\n",
        "\"\"\")\n",
        "\n",
        "# print(result)\n",
        "\n",
        "print(result)"
      ],
      "metadata": {
        "colab": {
          "base_uri": "https://localhost:8080/"
        },
        "id": "XCZc-P2M4dSb",
        "outputId": "2a00534e-f786-4e42-c8f0-e0bbc41c334d"
      },
      "execution_count": 9,
      "outputs": [
        {
          "output_type": "stream",
          "name": "stdout",
          "text": [
            "shape: (16, 2)\n",
            "┌─────────┬───────────┐\n",
            "│ carrier ┆ avg_age   │\n",
            "│ ---     ┆ ---       │\n",
            "│ str     ┆ f64       │\n",
            "╞═════════╪═══════════╡\n",
            "│ B6      ┆ 6.686702  │\n",
            "│ EV      ┆ 11.308998 │\n",
            "│ HA      ┆ 1.548387  │\n",
            "│ DL      ┆ 16.372169 │\n",
            "│ YV      ┆ 9.313758  │\n",
            "│ …       ┆ …         │\n",
            "│ F9      ┆ 4.87874   │\n",
            "│ WN      ┆ 9.146052  │\n",
            "│ MQ      ┆ 35.319    │\n",
            "│ 9E      ┆ 7.101053  │\n",
            "│ UA      ┆ 13.207691 │\n",
            "└─────────┴───────────┘\n"
          ]
        }
      ]
    },
    {
      "cell_type": "code",
      "source": [
        "# QUESTION 3.3\n",
        "\n",
        "# First, explore the weather table structure\n",
        "result = ctx.execute(\"\"\"\n",
        "    SELECT *\n",
        "    FROM weather\n",
        "    LIMIT 5\n",
        "\"\"\")\n",
        "# print(result)\n",
        "\n",
        "print(result)\n",
        "\n",
        "# Now write your join query\n",
        "result = ctx.execute(\"\"\"\n",
        "SELECT f.*\n",
        "FROM flights f\n",
        "JOIN weather w ON f.origin = w.origin AND f.time_hour = w.time_hour\n",
        "WHERE f.dep_delay > 30 AND (w.wind_speed > 20 OR w.precip > 0.1)\n",
        "\"\"\")\n",
        "\n",
        "# print(result)\n",
        "\n",
        "print(result)"
      ],
      "metadata": {
        "colab": {
          "base_uri": "https://localhost:8080/"
        },
        "id": "5cYniRna4ime",
        "outputId": "61d1669a-5893-427c-da77-ad7162e38591"
      },
      "execution_count": 10,
      "outputs": [
        {
          "output_type": "stream",
          "name": "stdout",
          "text": [
            "shape: (5, 15)\n",
            "┌────────┬──────┬───────┬─────┬───┬────────┬──────────┬───────┬─────────────────────────┐\n",
            "│ origin ┆ year ┆ month ┆ day ┆ … ┆ precip ┆ pressure ┆ visib ┆ time_hour               │\n",
            "│ ---    ┆ ---  ┆ ---   ┆ --- ┆   ┆ ---    ┆ ---      ┆ ---   ┆ ---                     │\n",
            "│ str    ┆ i64  ┆ i64   ┆ i64 ┆   ┆ f64    ┆ f64      ┆ f64   ┆ datetime[μs, UTC]       │\n",
            "╞════════╪══════╪═══════╪═════╪═══╪════════╪══════════╪═══════╪═════════════════════════╡\n",
            "│ EWR    ┆ 2013 ┆ 1     ┆ 1   ┆ … ┆ 0.0    ┆ 1012.0   ┆ 10.0  ┆ 2013-01-01 06:00:00 UTC │\n",
            "│ EWR    ┆ 2013 ┆ 1     ┆ 1   ┆ … ┆ 0.0    ┆ 1012.3   ┆ 10.0  ┆ 2013-01-01 07:00:00 UTC │\n",
            "│ EWR    ┆ 2013 ┆ 1     ┆ 1   ┆ … ┆ 0.0    ┆ 1012.5   ┆ 10.0  ┆ 2013-01-01 08:00:00 UTC │\n",
            "│ EWR    ┆ 2013 ┆ 1     ┆ 1   ┆ … ┆ 0.0    ┆ 1012.2   ┆ 10.0  ┆ 2013-01-01 09:00:00 UTC │\n",
            "│ EWR    ┆ 2013 ┆ 1     ┆ 1   ┆ … ┆ 0.0    ┆ 1011.9   ┆ 10.0  ┆ 2013-01-01 10:00:00 UTC │\n",
            "└────────┴──────┴───────┴─────┴───┴────────┴──────────┴───────┴─────────────────────────┘\n",
            "shape: (4_938, 19)\n",
            "┌──────┬───────┬─────┬──────────┬───┬──────────┬──────┬────────┬─────────────────────────┐\n",
            "│ year ┆ month ┆ day ┆ dep_time ┆ … ┆ distance ┆ hour ┆ minute ┆ time_hour               │\n",
            "│ ---  ┆ ---   ┆ --- ┆ ---      ┆   ┆ ---      ┆ ---  ┆ ---    ┆ ---                     │\n",
            "│ i64  ┆ i64   ┆ i64 ┆ i64      ┆   ┆ i64      ┆ i64  ┆ i64    ┆ datetime[μs, UTC]       │\n",
            "╞══════╪═══════╪═════╪══════════╪═══╪══════════╪══════╪════════╪═════════════════════════╡\n",
            "│ 2013 ┆ 1     ┆ 1   ┆ 2217     ┆ … ┆ 1005     ┆ 21   ┆ 30     ┆ 2013-01-02 02:00:00 UTC │\n",
            "│ 2013 ┆ 1     ┆ 1   ┆ 2326     ┆ … ┆ 2248     ┆ 21   ┆ 30     ┆ 2013-01-02 02:00:00 UTC │\n",
            "│ 2013 ┆ 1     ┆ 4   ┆ 1238     ┆ … ┆ 820      ┆ 11   ┆ 59     ┆ 2013-01-04 16:00:00 UTC │\n",
            "│ 2013 ┆ 1     ┆ 4   ┆ 1400     ┆ … ┆ 212      ┆ 13   ┆ 20     ┆ 2013-01-04 18:00:00 UTC │\n",
            "│ 2013 ┆ 1     ┆ 4   ┆ 1455     ┆ … ┆ 187      ┆ 14   ┆ 22     ┆ 2013-01-04 19:00:00 UTC │\n",
            "│ …    ┆ …     ┆ …   ┆ …        ┆ … ┆ …        ┆ …    ┆ …      ┆ …                       │\n",
            "│ 2013 ┆ 9     ┆ 22  ┆ 1540     ┆ … ┆ 762      ┆ 14   ┆ 59     ┆ 2013-09-22 18:00:00 UTC │\n",
            "│ 2013 ┆ 9     ┆ 22  ┆ 1957     ┆ … ┆ 335      ┆ 18   ┆ 20     ┆ 2013-09-22 22:00:00 UTC │\n",
            "│ 2013 ┆ 9     ┆ 22  ┆ 2104     ┆ … ┆ 2153     ┆ 20   ┆ 22     ┆ 2013-09-23 00:00:00 UTC │\n",
            "│ 2013 ┆ 9     ┆ 22  ┆ 2111     ┆ … ┆ 2475     ┆ 20   ┆ 25     ┆ 2013-09-23 00:00:00 UTC │\n",
            "│ 2013 ┆ 9     ┆ 22  ┆ 2130     ┆ … ┆ 187      ┆ 20   ┆ 45     ┆ 2013-09-23 00:00:00 UTC │\n",
            "└──────┴───────┴─────┴──────────┴───┴──────────┴──────┴────────┴─────────────────────────┘\n"
          ]
        }
      ]
    },
    {
      "cell_type": "code",
      "source": [
        "# QUESTION 4.1\n",
        "\n",
        "# Write your SQL query here\n",
        "result = ctx.execute(\"\"\"\n",
        "SELECT p.manufacturer, p.model, COUNT(*) AS flight_count\n",
        "FROM flights f\n",
        "JOIN planes p ON f.tailnum = p.tailnum\n",
        "GROUP BY p.manufacturer, p.model\n",
        "ORDER BY flight_count DESC\n",
        "LIMIT 10\n",
        "\"\"\")\n",
        "\n",
        "# print(result)\n",
        "\n",
        "print(result)"
      ],
      "metadata": {
        "colab": {
          "base_uri": "https://localhost:8080/"
        },
        "id": "x0x3Kdhp4jw_",
        "outputId": "f13f1db4-7e30-4380-a805-86048e08c3d1"
      },
      "execution_count": 11,
      "outputs": [
        {
          "output_type": "stream",
          "name": "stdout",
          "text": [
            "shape: (10, 3)\n",
            "┌───────────────────────────────┬─────────────────┬──────────────┐\n",
            "│ manufacturer                  ┆ model           ┆ flight_count │\n",
            "│ ---                           ┆ ---             ┆ ---          │\n",
            "│ str                           ┆ str             ┆ u32          │\n",
            "╞═══════════════════════════════╪═════════════════╪══════════════╡\n",
            "│ AIRBUS                        ┆ A320-232        ┆ 31278        │\n",
            "│ EMBRAER                       ┆ EMB-145LR       ┆ 28027        │\n",
            "│ EMBRAER                       ┆ ERJ 190-100 IGW ┆ 23716        │\n",
            "│ AIRBUS INDUSTRIE              ┆ A320-232        ┆ 14553        │\n",
            "│ EMBRAER                       ┆ EMB-145XR       ┆ 14051        │\n",
            "│ BOEING                        ┆ 737-824         ┆ 13809        │\n",
            "│ BOMBARDIER INC                ┆ CL-600-2D24     ┆ 11807        │\n",
            "│ BOEING                        ┆ 737-7H4         ┆ 10389        │\n",
            "│ BOEING                        ┆ 757-222         ┆ 9150         │\n",
            "│ MCDONNELL DOUGLAS AIRCRAFT CO ┆ MD-88           ┆ 8932         │\n",
            "└───────────────────────────────┴─────────────────┴──────────────┘\n"
          ]
        }
      ]
    },
    {
      "cell_type": "code",
      "source": [
        "# QUESTION 4.2\n",
        "\n",
        "# Write your SQL query here\n",
        "# Find the top 10 routes (origin-destination pairs) with:\n",
        "# Total number of flights\n",
        "# Average departure delay\n",
        "# Percentage of flights delayed more than 30 minutes\n",
        "# Include airport names, not just codes.\n",
        "\n",
        "result = ctx.execute(\"\"\"\n",
        "  SELECT\n",
        "      f.origin,\n",
        "      a.name AS origin_name,\n",
        "      f.dest AS dest_name,\n",
        "      COUNT(*) AS flight_count,\n",
        "      AVG(f.dep_delay) AS avg_delay,\n",
        "      CAST(SUM(CASE WHEN f.dep_delay > 30 THEN 1 ELSE 0 END) AS REAL) / COUNT(*) AS delayed_percentage\n",
        "  FROM flights f\n",
        "  JOIN airports a ON f.origin = a.faa\n",
        "  GROUP BY f.origin, a.name, f.dest\n",
        "  ORDER BY flight_count DESC\n",
        "  LIMIT 10\n",
        "\"\"\")\n",
        "\n",
        "\n",
        "\n",
        "# print(result)\n",
        "print(result)"
      ],
      "metadata": {
        "colab": {
          "base_uri": "https://localhost:8080/"
        },
        "id": "q6-mErzY4nBe",
        "outputId": "d5a64f2e-ebbb-4f30-d2d0-5263ca1411b6"
      },
      "execution_count": 19,
      "outputs": [
        {
          "output_type": "stream",
          "name": "stdout",
          "text": [
            "shape: (10, 6)\n",
            "┌────────┬─────────────────────┬───────────┬──────────────┬───────────┬────────────────────┐\n",
            "│ origin ┆ origin_name         ┆ dest_name ┆ flight_count ┆ avg_delay ┆ delayed_percentage │\n",
            "│ ---    ┆ ---                 ┆ ---       ┆ ---          ┆ ---       ┆ ---                │\n",
            "│ str    ┆ str                 ┆ str       ┆ u32          ┆ f64       ┆ f64                │\n",
            "╞════════╪═════════════════════╪═══════════╪══════════════╪═══════════╪════════════════════╡\n",
            "│ JFK    ┆ John F Kennedy Intl ┆ LAX       ┆ 11262        ┆ 8.522508  ┆ 0.098295           │\n",
            "│ LGA    ┆ La Guardia          ┆ ATL       ┆ 10263        ┆ 11.448621 ┆ 0.122479           │\n",
            "│ LGA    ┆ La Guardia          ┆ ORD       ┆ 8857         ┆ 10.740758 ┆ 0.133454           │\n",
            "│ JFK    ┆ John F Kennedy Intl ┆ SFO       ┆ 8204         ┆ 11.952691 ┆ 0.12116            │\n",
            "│ LGA    ┆ La Guardia          ┆ CLT       ┆ 6168         ┆ 8.965321  ┆ 0.119488           │\n",
            "│ EWR    ┆ Newark Liberty Intl ┆ ORD       ┆ 6100         ┆ 14.644163 ┆ 0.16               │\n",
            "│ JFK    ┆ John F Kennedy Intl ┆ BOS       ┆ 5898         ┆ 11.694953 ┆ 0.137674           │\n",
            "│ LGA    ┆ La Guardia          ┆ MIA       ┆ 5781         ┆ 7.361747  ┆ 0.09462            │\n",
            "│ JFK    ┆ John F Kennedy Intl ┆ MCO       ┆ 5464         ┆ 10.601583 ┆ 0.127196           │\n",
            "│ EWR    ┆ Newark Liberty Intl ┆ BOS       ┆ 5327         ┆ 12.54561  ┆ 0.149052           │\n",
            "└────────┴─────────────────────┴───────────┴──────────────┴───────────┴────────────────────┘\n"
          ]
        }
      ]
    },
    {
      "cell_type": "code",
      "source": [
        "# Write your SQL query here\n",
        "result = ctx.execute(\"\"\"\n",
        "SELECT *\n",
        "FROM flights\n",
        "LIMIT 10\n",
        "\"\"\")\n",
        "\n",
        "print(result)"
      ],
      "metadata": {
        "colab": {
          "base_uri": "https://localhost:8080/"
        },
        "id": "FooAMYKi4uFm",
        "outputId": "12a44634-2af4-4c76-8c61-9d4f9893e500"
      },
      "execution_count": 15,
      "outputs": [
        {
          "output_type": "stream",
          "name": "stdout",
          "text": [
            "shape: (10, 19)\n",
            "┌──────┬───────┬─────┬──────────┬───┬──────────┬──────┬────────┬─────────────────────────┐\n",
            "│ year ┆ month ┆ day ┆ dep_time ┆ … ┆ distance ┆ hour ┆ minute ┆ time_hour               │\n",
            "│ ---  ┆ ---   ┆ --- ┆ ---      ┆   ┆ ---      ┆ ---  ┆ ---    ┆ ---                     │\n",
            "│ i64  ┆ i64   ┆ i64 ┆ i64      ┆   ┆ i64      ┆ i64  ┆ i64    ┆ datetime[μs, UTC]       │\n",
            "╞══════╪═══════╪═════╪══════════╪═══╪══════════╪══════╪════════╪═════════════════════════╡\n",
            "│ 2013 ┆ 1     ┆ 1   ┆ 517      ┆ … ┆ 1400     ┆ 5    ┆ 15     ┆ 2013-01-01 10:00:00 UTC │\n",
            "│ 2013 ┆ 1     ┆ 1   ┆ 533      ┆ … ┆ 1416     ┆ 5    ┆ 29     ┆ 2013-01-01 10:00:00 UTC │\n",
            "│ 2013 ┆ 1     ┆ 1   ┆ 542      ┆ … ┆ 1089     ┆ 5    ┆ 40     ┆ 2013-01-01 10:00:00 UTC │\n",
            "│ 2013 ┆ 1     ┆ 1   ┆ 544      ┆ … ┆ 1576     ┆ 5    ┆ 45     ┆ 2013-01-01 10:00:00 UTC │\n",
            "│ 2013 ┆ 1     ┆ 1   ┆ 554      ┆ … ┆ 762      ┆ 6    ┆ 0      ┆ 2013-01-01 11:00:00 UTC │\n",
            "│ 2013 ┆ 1     ┆ 1   ┆ 554      ┆ … ┆ 719      ┆ 5    ┆ 58     ┆ 2013-01-01 10:00:00 UTC │\n",
            "│ 2013 ┆ 1     ┆ 1   ┆ 555      ┆ … ┆ 1065     ┆ 6    ┆ 0      ┆ 2013-01-01 11:00:00 UTC │\n",
            "│ 2013 ┆ 1     ┆ 1   ┆ 557      ┆ … ┆ 229      ┆ 6    ┆ 0      ┆ 2013-01-01 11:00:00 UTC │\n",
            "│ 2013 ┆ 1     ┆ 1   ┆ 557      ┆ … ┆ 944      ┆ 6    ┆ 0      ┆ 2013-01-01 11:00:00 UTC │\n",
            "│ 2013 ┆ 1     ┆ 1   ┆ 558      ┆ … ┆ 733      ┆ 6    ┆ 0      ┆ 2013-01-01 11:00:00 UTC │\n",
            "└──────┴───────┴─────┴──────────┴───┴──────────┴──────┴────────┴─────────────────────────┘\n"
          ]
        }
      ]
    },
    {
      "cell_type": "code",
      "source": [
        "# BONUS QUESTION\n",
        "\n",
        "# Let's implement Exercise 2.1 (average delay by origin) in Polars\n",
        "\n",
        "# SQL version (for reference)\n",
        "sql_result = ctx.execute(\"\"\"\n",
        "    SELECT\n",
        "        origin,\n",
        "        AVG(dep_delay) as avg_delay\n",
        "    FROM flights\n",
        "    WHERE dep_delay IS NOT NULL\n",
        "    GROUP BY origin\n",
        "    ORDER BY avg_delay DESC\n",
        "\"\"\")\n",
        "\n",
        "# Polars version\n",
        "polars_result = (\n",
        "    flights\n",
        "    .filter(pl.col('dep_delay').is_not_null())\n",
        "    .group_by('origin')\n",
        "    .agg(pl.col('dep_delay').mean().alias('avg_delay'))\n",
        "    .sort('avg_delay', descending=True)\n",
        ")\n",
        "\n",
        "print(\"SQL Result:\")\n",
        "print(sql_result)\n",
        "print(\"\\nPolars Result:\")\n",
        "print(polars_result)\n",
        "\n",
        "# Now implement one of your own queries in Polars below:\n",
        "# Your Polars code here"
      ],
      "metadata": {
        "colab": {
          "base_uri": "https://localhost:8080/"
        },
        "id": "upYZwe3A5Ej5",
        "outputId": "6c4246d6-5240-4f19-c420-f8dbd78057f4"
      },
      "execution_count": 16,
      "outputs": [
        {
          "output_type": "stream",
          "name": "stdout",
          "text": [
            "SQL Result:\n",
            "shape: (3, 2)\n",
            "┌────────┬───────────┐\n",
            "│ origin ┆ avg_delay │\n",
            "│ ---    ┆ ---       │\n",
            "│ str    ┆ f64       │\n",
            "╞════════╪═══════════╡\n",
            "│ EWR    ┆ 15.107954 │\n",
            "│ JFK    ┆ 12.112159 │\n",
            "│ LGA    ┆ 10.346876 │\n",
            "└────────┴───────────┘\n",
            "\n",
            "Polars Result:\n",
            "shape: (3, 2)\n",
            "┌────────┬───────────┐\n",
            "│ origin ┆ avg_delay │\n",
            "│ ---    ┆ ---       │\n",
            "│ str    ┆ f64       │\n",
            "╞════════╪═══════════╡\n",
            "│ EWR    ┆ 15.107954 │\n",
            "│ JFK    ┆ 12.112159 │\n",
            "│ LGA    ┆ 10.346876 │\n",
            "└────────┴───────────┘\n"
          ]
        }
      ]
    }
  ]
}